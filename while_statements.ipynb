{
 "cells": [
  {
   "cell_type": "code",
   "execution_count": 9,
   "metadata": {},
   "outputs": [
    {
     "name": "stdout",
     "output_type": "stream",
     "text": [
      "2 is an even number between 1 and 10\n",
      "4 is an even number between 1 and 10\n",
      "6 is an even number between 1 and 10\n",
      "8 is an even number between 1 and 10\n",
      "10 is an even number between 1 and 10\n",
      "There are 5 even numbers between 1 and 10\n"
     ]
    }
   ],
   "source": [
    "count = 0  # Initialize count to 0\n",
    "x = 1  # Initialize x to 1\n",
    "\n",
    "while x <= 10:\n",
    "    if x % 2 == 0:\n",
    "        count += 1\n",
    "        print(x, \"is an even number between 1 and 10\")\n",
    "    x += 1  # Increment x for the next iteration\n",
    "\n",
    "# Print the total count of even numbers\n",
    "print(\"There are\", count, \"even numbers between 1 and 10\")"
   ]
  }
 ],
 "metadata": {
  "kernelspec": {
   "display_name": "Python 3",
   "language": "python",
   "name": "python3"
  },
  "language_info": {
   "codemirror_mode": {
    "name": "ipython",
    "version": 3
   },
   "file_extension": ".py",
   "mimetype": "text/x-python",
   "name": "python",
   "nbconvert_exporter": "python",
   "pygments_lexer": "ipython3",
   "version": "3.9.13"
  },
  "orig_nbformat": 4
 },
 "nbformat": 4,
 "nbformat_minor": 2
}

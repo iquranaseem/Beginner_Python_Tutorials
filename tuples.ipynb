{
 "cells": [
  {
   "cell_type": "code",
   "execution_count": 12,
   "metadata": {},
   "outputs": [
    {
     "name": "stdout",
     "output_type": "stream",
     "text": [
      "leph\n",
      "a\n",
      "elephant\n",
      "Number of e's: 2\n",
      "Index of h: 4\n"
     ]
    }
   ],
   "source": [
    "animal = (\"elephant\")\n",
    "print(animal[1:5])\n",
    "print(animal[-3])\n",
    "print(animal[:])\n",
    "print(\"Number of e's:\", animal.count(\"e\"))\n",
    "print(\"Index of h:\", animal.index(\"h\"))\n"
   ]
  }
 ],
 "metadata": {
  "kernelspec": {
   "display_name": "Python 3",
   "language": "python",
   "name": "python3"
  },
  "language_info": {
   "codemirror_mode": {
    "name": "ipython",
    "version": 3
   },
   "file_extension": ".py",
   "mimetype": "text/x-python",
   "name": "python",
   "nbconvert_exporter": "python",
   "pygments_lexer": "ipython3",
   "version": "3.9.13"
  },
  "orig_nbformat": 4
 },
 "nbformat": 4,
 "nbformat_minor": 2
}

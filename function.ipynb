{
 "cells": [
  {
   "cell_type": "code",
   "execution_count": 11,
   "metadata": {},
   "outputs": [
    {
     "name": "stdout",
     "output_type": "stream",
     "text": [
      "N=1: 1\n",
      "N=2: 1\n",
      "N=3: 3\n",
      "N=4: 5\n",
      "N=5: 7\n"
     ]
    }
   ],
   "source": [
    "def fib(n):\n",
    "    if n == 1:\n",
    "        return 1\n",
    "    if n == 2:\n",
    "        return 1 \n",
    "    if n > 2:\n",
    "        return (n-1)+(n-2)\n",
    "    \n",
    "print(\"N=1:\", fib(1))\n",
    "print(\"N=2:\", fib(2))\n",
    "print(\"N=3:\", fib(3))\n",
    "print(\"N=4:\", fib(4))\n",
    "print(\"N=5:\", fib(5))"
   ]
  },
  {
   "cell_type": "code",
   "execution_count": 19,
   "metadata": {},
   "outputs": [
    {
     "name": "stdout",
     "output_type": "stream",
     "text": [
      "N=1: 0\n",
      "N=2: 4\n",
      "N=3: 8\n",
      "N=4: 12\n",
      "N=5: 16\n"
     ]
    }
   ],
   "source": [
    "def function(n):\n",
    "    if n == 1:\n",
    "        return 0\n",
    "    if n > 1:\n",
    "        return 4 * (n-1)\n",
    "    \n",
    "print(\"N=1:\", function(1))\n",
    "print(\"N=2:\", function(2))\n",
    "print(\"N=3:\", function(3))\n",
    "print(\"N=4:\", function(4))\n",
    "print(\"N=5:\", function(5))\n"
   ]
  }
 ],
 "metadata": {
  "kernelspec": {
   "display_name": "Python 3",
   "language": "python",
   "name": "python3"
  },
  "language_info": {
   "codemirror_mode": {
    "name": "ipython",
    "version": 3
   },
   "file_extension": ".py",
   "mimetype": "text/x-python",
   "name": "python",
   "nbconvert_exporter": "python",
   "pygments_lexer": "ipython3",
   "version": "3.9.13"
  },
  "orig_nbformat": 4
 },
 "nbformat": 4,
 "nbformat_minor": 2
}

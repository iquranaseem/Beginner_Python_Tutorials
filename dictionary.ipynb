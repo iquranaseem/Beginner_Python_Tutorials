{
 "cells": [
  {
   "cell_type": "code",
   "execution_count": 11,
   "metadata": {},
   "outputs": [
    {
     "name": "stdout",
     "output_type": "stream",
     "text": [
      "Name: Amy\n",
      "Number of items 3\n",
      "Original dictionary: {'Name': 'Amy', 'Email': 'amyking@gmail.com', 'Job Title': 'Data Engineer'}\n",
      "New dictionary {'Name': 'Amy', 'Email': 'amy@job.ie', 'Job Title': 'Data Engineer'}\n",
      "New dictionary {'Name': 'Amy', 'Email': 'amy@job.ie', 'Job Title': 'Data Engineer', 'Phone extension number': 23}\n",
      "False\n"
     ]
    }
   ],
   "source": [
    "employee_info_amy = {\"Name\": \"Amy\", \"Email\": \"amyking@gmail.com\", \"Job Title\": \"Data Engineer\"}\n",
    "\n",
    "# Access the value associated with the \"Name\" key and print it\n",
    "print(\"Name:\", employee_info_amy[\"Name\"])\n",
    "\n",
    "# Get the number of key-value pairs (items) in the dictionary and print it\n",
    "print(\"Number of items\", len(employee_info_amy))\n",
    "\n",
    "# Print the entire dictionary\n",
    "print(\"Original dictionary:\", employee_info_amy)\n",
    "\n",
    "# Change the value of the \"Email\" key to \"amy@job.ie\"\n",
    "employee_info_amy[\"Email\"] = \"amy@job.ie\"\n",
    "print(\"New dictionary\", employee_info_amy)\n",
    "# Add an item with \"Phone extension number\" as the key and \"23\" as its value\n",
    "employee_info_amy[\"Phone extension number\"] = 23\n",
    "\n",
    "print(\"New dictionary\", employee_info_amy)\n",
    "\n",
    "# Check if \"Gender\" is a key in the dictionary and print the result\n",
    "print(\"Gender\" in employee_info_amy)\n"
   ]
  }
 ],
 "metadata": {
  "kernelspec": {
   "display_name": "Python 3",
   "language": "python",
   "name": "python3"
  },
  "language_info": {
   "codemirror_mode": {
    "name": "ipython",
    "version": 3
   },
   "file_extension": ".py",
   "mimetype": "text/x-python",
   "name": "python",
   "nbconvert_exporter": "python",
   "pygments_lexer": "ipython3",
   "version": "3.9.13"
  },
  "orig_nbformat": 4
 },
 "nbformat": 4,
 "nbformat_minor": 2
}

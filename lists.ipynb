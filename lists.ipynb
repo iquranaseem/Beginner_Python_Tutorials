{
 "cells": [
  {
   "cell_type": "code",
   "execution_count": 1,
   "metadata": {},
   "outputs": [
    {
     "name": "stdout",
     "output_type": "stream",
     "text": [
      "{2}\n",
      "{1, 2, 3, 4, 5, 9}\n",
      "{1, 2, 3, 5, 9}\n"
     ]
    }
   ],
   "source": [
    "list_a = [1, 2, 3, 4, 5]\n",
    "list_b = [2, 4, 6, 9, 1]\n",
    "list_c = [3, 5, 2, 5, 7]\n",
    "\n",
    "# Convert lists to sets\n",
    "set_1 = set(list_a)\n",
    "set_2 = set(list_b)\n",
    "set_3 = set(list_c)\n",
    "\n",
    "# Find common elements among the sets\n",
    "common_elements = set_1 & set_2 & set_3\n",
    "\n",
    "# Print the common elements\n",
    "print(common_elements)\n",
    "\n",
    "# Add 9 to set_1\n",
    "set_1.add(9)\n",
    "\n",
    "# Print set_1 after adding 9\n",
    "print(set_1)\n",
    "\n",
    "# Remove 4 from set_1\n",
    "set_1.remove(4)\n",
    "\n",
    "# Print set_1 after removing 4\n",
    "print(set_1)\n"
   ]
  }
 ],
 "metadata": {
  "kernelspec": {
   "display_name": "Python 3",
   "language": "python",
   "name": "python3"
  },
  "language_info": {
   "codemirror_mode": {
    "name": "ipython",
    "version": 3
   },
   "file_extension": ".py",
   "mimetype": "text/x-python",
   "name": "python",
   "nbconvert_exporter": "python",
   "pygments_lexer": "ipython3",
   "version": "3.9.13"
  },
  "orig_nbformat": 4
 },
 "nbformat": 4,
 "nbformat_minor": 2
}

{
 "cells": [
  {
   "cell_type": "code",
   "execution_count": 3,
   "metadata": {},
   "outputs": [
    {
     "name": "stdout",
     "output_type": "stream",
     "text": [
      "30 + 10 = 40\n",
      "30 - 10 = 20\n",
      "30 * 10 = 300\n",
      "30 / 10 = 3\n",
      "Square of 30 = 900\n",
      "Square of 10 = 100\n"
     ]
    }
   ],
   "source": [
    "# Pseudocode for a simple calculator program\n",
    "# that performs basic arithmetic operations\n",
    "\n",
    "# Prompt the user to enter two numbers\n",
    "\n",
    "num_1 = int(input(\"Enter a number: \"))\n",
    "num_2 = int(input(\"Enter a number: \"))\n",
    "\n",
    "sum_result = num_1+num_2\n",
    "difference_result = num_1 - num_2\n",
    "product_result = num_1 * num_2\n",
    "division_result = num_1 // num_2\n",
    "square_num_1 = num_1 ** 2\n",
    "square_num_2 = num_2 ** 2\n",
    "\n",
    "\n",
    "# Calculate and print the sum of the two numbers\n",
    "\n",
    "print(num_1, \"+\", num_2, \"=\", sum_result)\n",
    "\n",
    "# Calculate and print the difference between the two numbers\n",
    "\n",
    "print(num_1, \"-\", num_2, \"=\", difference_result)\n",
    "\n",
    "# Calculate and print the product of the two numbers\n",
    "\n",
    "print(num_1, \"*\", num_2, \"=\", product_result)\n",
    "\n",
    "# Calculate and print the result of dividing num_1 by num_2\n",
    "\n",
    "print(num_1, \"/\", num_2, \"=\", division_result)\n",
    "\n",
    "# Calculate and print the square of num_1\n",
    "\n",
    "print(\"Square of\", num_1, \"=\", square_num_1)\n",
    "\n",
    "# Calculate and print the square of num_2\n",
    "\n",
    "square_num_2 = num_2 ** 2\n",
    "print(\"Square of\", num_2, \"=\", square_num_2)\n"
   ]
  }
 ],
 "metadata": {
  "kernelspec": {
   "display_name": "Python 3",
   "language": "python",
   "name": "python3"
  },
  "language_info": {
   "codemirror_mode": {
    "name": "ipython",
    "version": 3
   },
   "file_extension": ".py",
   "mimetype": "text/x-python",
   "name": "python",
   "nbconvert_exporter": "python",
   "pygments_lexer": "ipython3",
   "version": "3.9.13"
  },
  "orig_nbformat": 4
 },
 "nbformat": 4,
 "nbformat_minor": 2
}
